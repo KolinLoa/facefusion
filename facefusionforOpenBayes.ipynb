{
 "cells": [
  {
   "cell_type": "markdown",
   "metadata": {
    "id": "hgVreYca3LcQ"
   },
   "source": [
    "FaceFusion 2.0.0"
   ]
  },
  {
   "cell_type": "markdown",
   "metadata": {
    "id": "28qKtK7F3bzl"
   },
   "source": [
    "Install"
   ]
  },
  {
   "cell_type": "code",
   "execution_count": null,
   "metadata": {
    "execution": {
     "iopub.execute_input": "2023-12-08T06:11:05.989418Z",
     "iopub.status.busy": "2023-12-08T06:11:05.989001Z",
     "iopub.status.idle": "2023-12-08T06:20:05.613170Z",
     "shell.execute_reply": "2023-12-08T06:20:05.612493Z",
     "shell.execute_reply.started": "2023-12-08T06:11:05.989397Z"
    },
    "id": "ZlrnUA3i3gMB",
    "tags": []
   },
   "outputs": [],
   "source": [
    "!git clone https://github.com/facefusion/facefusion --branch 2.0.0 --single-branch\n",
    "!conda install python=3.10 -y\n",
    "%cd /output/facefusion\n",
    "!python -m pip install tb-nightly -i https://mirrors.aliyun.com/pypi/simple\n",
    "!python install.py --torch cuda --onnxruntime cuda"
   ]
  },
  {
   "cell_type": "markdown",
   "metadata": {
    "id": "J6HT5NpVcZOC"
   },
   "source": [
    "Setup"
   ]
  },
  {
   "cell_type": "code",
   "execution_count": null,
   "metadata": {
    "execution": {
     "iopub.execute_input": "2023-12-08T06:20:26.189377Z",
     "iopub.status.busy": "2023-12-08T06:20:26.189118Z",
     "iopub.status.idle": "2023-12-08T06:20:28.600794Z",
     "shell.execute_reply": "2023-12-08T06:20:28.599228Z",
     "shell.execute_reply.started": "2023-12-08T06:20:26.189356Z"
    },
    "id": "YVHiNI-bb6IB",
    "tags": []
   },
   "outputs": [],
   "source": [
    "!ssh-keygen -q -t rsa -N '' -f ~/.ssh/id_rsa <<<y\n",
    "!ssh-keyscan -t rsa remote.moe >> ~/.ssh/known_hosts"
   ]
  },
  {
   "cell_type": "markdown",
   "metadata": {
    "id": "vsfWtUCSGrrl"
   },
   "source": [
    "Run"
   ]
  },
  {
   "cell_type": "code",
   "execution_count": null,
   "metadata": {
    "execution": {
     "iopub.execute_input": "2023-12-08T06:20:34.347739Z",
     "iopub.status.busy": "2023-12-08T06:20:34.347216Z"
    },
    "id": "YVHiNI-bb6IA",
    "tags": []
   },
   "outputs": [],
   "source": [
    "%cd /output/facefusion\n",
    "!python run.py --execution-providers cuda & ssh -R 80:localhost:7860 remote.moe"
   ]
  }
 ],
 "metadata": {
  "accelerator": "GPU",
  "colab": {
   "provenance": []
  },
  "kernelspec": {
   "display_name": "Python 3 (ipykernel)",
   "language": "python",
   "name": "python3"
  },
  "language_info": {
   "codemirror_mode": {
    "name": "ipython",
    "version": 3
   },
   "file_extension": ".py",
   "mimetype": "text/x-python",
   "name": "python",
   "nbconvert_exporter": "python",
   "pygments_lexer": "ipython3",
   "version": "3.8.18"
  }
 },
 "nbformat": 4,
 "nbformat_minor": 4
}
